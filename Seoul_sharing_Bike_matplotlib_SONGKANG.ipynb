{
 "cells": [
  {
   "cell_type": "code",
   "execution_count": 1,
   "id": "b27a74b2",
   "metadata": {},
   "outputs": [],
   "source": [
    "import pandas as pd\n",
    "import numpy as np\n",
    "from scipy.stats import mode\n",
    "import missingno as msno\n",
    "import matplotlib as mpl\n",
    "import matplotlib.pyplot as plt\n",
    "import seaborn as sns\n",
    "import matplotlib.ticker as ticker\n",
    "from matplotlib import font_manager\n",
    "import warnings\n",
    "warnings.filterwarnings(action='ignore')\n",
    "\n",
    "\n",
    "%matplotlib inline\n",
    "f_path = \"/Library/Fonts/Arial Unicode.ttf\"\n",
    "font_manager.FontProperties(fname=f_path).get_name()\n",
    "plt.rcParams['font.family'] = 'AppleGothic'"
   ]
  },
  {
   "cell_type": "code",
   "execution_count": null,
   "id": "adae8c02",
   "metadata": {},
   "outputs": [],
   "source": [
    "def gu_filtering(df,station):\n",
    "    \n",
    "    # 컬럼명 편집\n",
    "    df.columns=['자전거번호', '대여일시', 'id', '대여 대여소명', '대여거치대', '반납일시', '반납대여소번호',\n",
    "       '반납대여소명', '반납거치대', '이용시간', '이용거리']\n",
    "    T_station = station[['대여소\\n번호','소재지(위치)','Unnamed: 4','Unnamed: 5']]\n",
    "    T_station.columns=['id','소재지(위치)','Unnamed: 4','Unnamed: 5']\n",
    "    \n",
    "    # 합집합 merge\n",
    "    T_station = pd.merge(sb2101,T_station,how='outer',on='id')\n",
    "    q = T_station['소재지(위치)'].astype(str)\n",
    "    T_station['소재지(위치)'] = q\n",
    "    \n",
    "    #groupby 를 통한 구별 이용량 통계\n",
    "    total = T_station.groupby(T_station['소재지(위치)']).count()[['자전거번호']]\n",
    "    total = total.reset_index()\n",
    "    \n",
    "    #불필요 데이터 삭제\n",
    "    total = total.drop(index=[0,23], axis=0)\n",
    "    \n",
    "    # 정렬\n",
    "    total = total.sort_values(by='자전거번호',ascending=False)\n",
    "    \n",
    "    plt.figure(figsize=(20, 10))\n",
    "    plt.title(df['대여일시'][0].split(' ')[0].split('-')[:2],size=30)\n",
    "    return plt.plot(total['소재지(위치)'],total['자전거번호'])"
   ]
  },
  {
   "cell_type": "code",
   "execution_count": null,
   "id": "476e42e5",
   "metadata": {},
   "outputs": [],
   "source": [
    "'''\n",
    "서울시 전체의 따릉이 이용량을 구 별로 색의 농도로 나타내고 \n",
    "높은곳은 따릉이 정류소에 대여와 반납이 편중된곳이 있는지 찾아보기\n",
    "그리고 가장 반납률이 많거나 대여량이 많은 정류소들을 다시 색 농도로 나타내기\n",
    "\n",
    "낮은곳은 그 이유를 찾아보고 이유에 대한 다른 데이터를 추가적으로 접목시키기\n",
    "예) 인구의 평균 연령이높다\n",
    "'''"
   ]
  },
  {
   "cell_type": "code",
   "execution_count": null,
   "id": "c331b84c",
   "metadata": {},
   "outputs": [],
   "source": [
    "'''\n",
    "전체 데이터를 이용 데이터를 모아서\n",
    "구별 따릉이 사용량 지도 시각화\n",
    "\n",
    "'''"
   ]
  },
  {
   "cell_type": "code",
   "execution_count": 32,
   "id": "4b6604e1",
   "metadata": {},
   "outputs": [],
   "source": [
    "sb2101 = pd.read_csv('./data/seoul_bike_2021.01.csv',encoding='cp949')"
   ]
  },
  {
   "cell_type": "code",
   "execution_count": 84,
   "id": "dc416b2d",
   "metadata": {},
   "outputs": [
    {
     "data": {
      "text/plain": [
       "'01'"
      ]
     },
     "execution_count": 84,
     "metadata": {},
     "output_type": "execute_result"
    }
   ],
   "source": [
    "sb2101['대여일시'][0].split(' ')[0].split('-')[1]"
   ]
  },
  {
   "cell_type": "code",
   "execution_count": 33,
   "id": "f4a58e83",
   "metadata": {},
   "outputs": [],
   "source": [
    "station = pd.read_csv('./data/location_2021.01.csv',encoding='cp949')"
   ]
  },
  {
   "cell_type": "code",
   "execution_count": 91,
   "id": "da9646e0",
   "metadata": {},
   "outputs": [],
   "source": [
    "def gu_filtering(df,station):\n",
    "    \n",
    "    # 컬럼명 편집\n",
    "    df.columns=['자전거번호', '대여일시', 'id', '대여 대여소명', '대여거치대', '반납일시', '반납대여소번호',\n",
    "       '반납대여소명', '반납거치대', '이용시간', '이용거리']\n",
    "    T_station = station[['대여소\\n번호','소재지(위치)','Unnamed: 4','Unnamed: 5']]\n",
    "    T_station.columns=['id','소재지(위치)','Unnamed: 4','Unnamed: 5']\n",
    "    \n",
    "    # 합집합 merge\n",
    "    T_station = pd.merge(sb2101,T_station,how='outer',on='id')\n",
    "    q = T_station['소재지(위치)'].astype(str)\n",
    "    T_station['소재지(위치)'] = q\n",
    "    \n",
    "    #groupby 를 통한 구별 이용량 통계\n",
    "    total = T_station.groupby(T_station['소재지(위치)']).count()[['자전거번호']]\n",
    "    total = total.reset_index()\n",
    "    \n",
    "    #불필요 데이터 삭제\n",
    "    total = total.drop(index=[0,23], axis=0)\n",
    "    \n",
    "    # 정렬\n",
    "    total = total.sort_values(by='자전거번호',ascending=False)\n",
    "    \n",
    "    plt.figure(figsize=(20, 10))\n",
    "    plt.title(df['대여일시'][0].split(' ')[0].split('-')[:2],size=30)\n",
    "    return plt.plot(total['소재지(위치)'],total['자전거번호'])"
   ]
  },
  {
   "cell_type": "code",
   "execution_count": 34,
   "id": "efc7ee5e",
   "metadata": {
    "scrolled": true
   },
   "outputs": [],
   "source": [
    "sb2101.columns=['자전거번호', '대여일시', 'id', '대여 대여소명', '대여거치대', '반납일시', '반납대여소번호',\n",
    "       '반납대여소명', '반납거치대', '이용시간', '이용거리']"
   ]
  },
  {
   "cell_type": "code",
   "execution_count": 35,
   "id": "83ce70f3",
   "metadata": {},
   "outputs": [],
   "source": [
    "T_station = station[['대여소\\n번호','소재지(위치)','Unnamed: 4','Unnamed: 5']]\n",
    "T_station.columns=['id','소재지(위치)','Unnamed: 4','Unnamed: 5']"
   ]
  },
  {
   "cell_type": "code",
   "execution_count": 36,
   "id": "7882a144",
   "metadata": {},
   "outputs": [],
   "source": [
    "T_station = pd.merge(sb2101,T_station,how='outer',on='id')"
   ]
  },
  {
   "cell_type": "code",
   "execution_count": 37,
   "id": "5274b006",
   "metadata": {},
   "outputs": [],
   "source": [
    "q = T_station['소재지(위치)'].astype(str)\n",
    "T_station['소재지(위치)'] = q"
   ]
  },
  {
   "cell_type": "code",
   "execution_count": 49,
   "id": "760fab48",
   "metadata": {},
   "outputs": [],
   "source": [
    "total = T_station.groupby(T_station['소재지(위치)']).count()[['자전거번호']]"
   ]
  },
  {
   "cell_type": "code",
   "execution_count": 57,
   "id": "2783f568",
   "metadata": {
    "collapsed": true
   },
   "outputs": [
    {
     "data": {
      "text/html": [
       "<div>\n",
       "<style scoped>\n",
       "    .dataframe tbody tr th:only-of-type {\n",
       "        vertical-align: middle;\n",
       "    }\n",
       "\n",
       "    .dataframe tbody tr th {\n",
       "        vertical-align: top;\n",
       "    }\n",
       "\n",
       "    .dataframe thead th {\n",
       "        text-align: right;\n",
       "    }\n",
       "</style>\n",
       "<table border=\"1\" class=\"dataframe\">\n",
       "  <thead>\n",
       "    <tr style=\"text-align: right;\">\n",
       "      <th></th>\n",
       "      <th>소재지(위치)</th>\n",
       "      <th>자전거번호</th>\n",
       "    </tr>\n",
       "  </thead>\n",
       "  <tbody>\n",
       "    <tr>\n",
       "      <th>0</th>\n",
       "      <td>nan</td>\n",
       "      <td>2881</td>\n",
       "    </tr>\n",
       "    <tr>\n",
       "      <th>1</th>\n",
       "      <td>강남구</td>\n",
       "      <td>24434</td>\n",
       "    </tr>\n",
       "    <tr>\n",
       "      <th>2</th>\n",
       "      <td>강동구</td>\n",
       "      <td>25846</td>\n",
       "    </tr>\n",
       "    <tr>\n",
       "      <th>3</th>\n",
       "      <td>강북구</td>\n",
       "      <td>16017</td>\n",
       "    </tr>\n",
       "    <tr>\n",
       "      <th>4</th>\n",
       "      <td>강서구</td>\n",
       "      <td>74453</td>\n",
       "    </tr>\n",
       "    <tr>\n",
       "      <th>5</th>\n",
       "      <td>관악구</td>\n",
       "      <td>27248</td>\n",
       "    </tr>\n",
       "    <tr>\n",
       "      <th>6</th>\n",
       "      <td>광진구</td>\n",
       "      <td>37783</td>\n",
       "    </tr>\n",
       "    <tr>\n",
       "      <th>7</th>\n",
       "      <td>구로구</td>\n",
       "      <td>31448</td>\n",
       "    </tr>\n",
       "    <tr>\n",
       "      <th>8</th>\n",
       "      <td>금천구</td>\n",
       "      <td>13414</td>\n",
       "    </tr>\n",
       "    <tr>\n",
       "      <th>9</th>\n",
       "      <td>노원구</td>\n",
       "      <td>41774</td>\n",
       "    </tr>\n",
       "    <tr>\n",
       "      <th>10</th>\n",
       "      <td>도봉구</td>\n",
       "      <td>16542</td>\n",
       "    </tr>\n",
       "    <tr>\n",
       "      <th>11</th>\n",
       "      <td>동대문구</td>\n",
       "      <td>33083</td>\n",
       "    </tr>\n",
       "    <tr>\n",
       "      <th>12</th>\n",
       "      <td>동작구</td>\n",
       "      <td>18785</td>\n",
       "    </tr>\n",
       "    <tr>\n",
       "      <th>13</th>\n",
       "      <td>마포구</td>\n",
       "      <td>47761</td>\n",
       "    </tr>\n",
       "    <tr>\n",
       "      <th>14</th>\n",
       "      <td>서대문구</td>\n",
       "      <td>22866</td>\n",
       "    </tr>\n",
       "    <tr>\n",
       "      <th>15</th>\n",
       "      <td>서초구</td>\n",
       "      <td>29127</td>\n",
       "    </tr>\n",
       "    <tr>\n",
       "      <th>16</th>\n",
       "      <td>성동구</td>\n",
       "      <td>37225</td>\n",
       "    </tr>\n",
       "    <tr>\n",
       "      <th>17</th>\n",
       "      <td>성북구</td>\n",
       "      <td>25747</td>\n",
       "    </tr>\n",
       "    <tr>\n",
       "      <th>18</th>\n",
       "      <td>송파구</td>\n",
       "      <td>54479</td>\n",
       "    </tr>\n",
       "    <tr>\n",
       "      <th>19</th>\n",
       "      <td>양천구</td>\n",
       "      <td>43089</td>\n",
       "    </tr>\n",
       "    <tr>\n",
       "      <th>20</th>\n",
       "      <td>영등포구</td>\n",
       "      <td>63882</td>\n",
       "    </tr>\n",
       "    <tr>\n",
       "      <th>21</th>\n",
       "      <td>용산구</td>\n",
       "      <td>17310</td>\n",
       "    </tr>\n",
       "    <tr>\n",
       "      <th>22</th>\n",
       "      <td>은평구</td>\n",
       "      <td>25272</td>\n",
       "    </tr>\n",
       "    <tr>\n",
       "      <th>23</th>\n",
       "      <td>자치구</td>\n",
       "      <td>0</td>\n",
       "    </tr>\n",
       "    <tr>\n",
       "      <th>24</th>\n",
       "      <td>종로구</td>\n",
       "      <td>34953</td>\n",
       "    </tr>\n",
       "    <tr>\n",
       "      <th>25</th>\n",
       "      <td>중구</td>\n",
       "      <td>20067</td>\n",
       "    </tr>\n",
       "    <tr>\n",
       "      <th>26</th>\n",
       "      <td>중랑구</td>\n",
       "      <td>22645</td>\n",
       "    </tr>\n",
       "  </tbody>\n",
       "</table>\n",
       "</div>"
      ],
      "text/plain": [
       "   소재지(위치)  자전거번호\n",
       "0      nan   2881\n",
       "1      강남구  24434\n",
       "2      강동구  25846\n",
       "3      강북구  16017\n",
       "4      강서구  74453\n",
       "5      관악구  27248\n",
       "6      광진구  37783\n",
       "7      구로구  31448\n",
       "8      금천구  13414\n",
       "9      노원구  41774\n",
       "10     도봉구  16542\n",
       "11    동대문구  33083\n",
       "12     동작구  18785\n",
       "13     마포구  47761\n",
       "14    서대문구  22866\n",
       "15     서초구  29127\n",
       "16     성동구  37225\n",
       "17     성북구  25747\n",
       "18     송파구  54479\n",
       "19     양천구  43089\n",
       "20    영등포구  63882\n",
       "21     용산구  17310\n",
       "22     은평구  25272\n",
       "23     자치구      0\n",
       "24     종로구  34953\n",
       "25      중구  20067\n",
       "26     중랑구  22645"
      ]
     },
     "execution_count": 57,
     "metadata": {},
     "output_type": "execute_result"
    }
   ],
   "source": [
    "total = total.reset_index()\n",
    "total"
   ]
  },
  {
   "cell_type": "code",
   "execution_count": 59,
   "id": "f542a67d",
   "metadata": {
    "scrolled": true
   },
   "outputs": [],
   "source": [
    "total = total.drop(index=[0,23], axis=0)"
   ]
  },
  {
   "cell_type": "code",
   "execution_count": 70,
   "id": "4bc62ea3",
   "metadata": {},
   "outputs": [],
   "source": [
    "total = total.sort_values(by='자전거번호',ascending=False)"
   ]
  },
  {
   "cell_type": "code",
   "execution_count": 71,
   "id": "17613487",
   "metadata": {},
   "outputs": [
    {
     "data": {
      "text/plain": [
       "[<matplotlib.lines.Line2D at 0x7fa6083aced0>]"
      ]
     },
     "execution_count": 71,
     "metadata": {},
     "output_type": "execute_result"
    },
    {
     "data": {
      "image/png": "[encoded data removed]",
      "text/plain": [
       "<Figure size 1440x720 with 1 Axes>"
      ]
     },
     "metadata": {
      "needs_background": "light"
     },
     "output_type": "display_data"
    }
   ],
   "source": [
    "plt.figure(figsize=(20, 10))\n",
    "plt.plot(total['소재지(위치)'],total['자전거번호'])\n",
    "# plt.xticks(rotation=90)"
   ]
  },
  {
   "cell_type": "code",
   "execution_count": null,
   "id": "86ba52cb",
   "metadata": {},
   "outputs": [],
   "source": [
    "Q = T_station['소재지(위치)'].astype(str)"
   ]
  },
  {
   "cell_type": "code",
   "execution_count": null,
   "id": "c12b7b93",
   "metadata": {},
   "outputs": [],
   "source": [
    "T_station['소재지(위치)'] = Q"
   ]
  },
  {
   "cell_type": "code",
   "execution_count": null,
   "id": "161af983",
   "metadata": {},
   "outputs": [],
   "source": [
    "for i in range(0,len(T_station['소재지(위치)'])):\n",
    "    if type(T_station['소재지(위치)'][i]) ==str:\n",
    "        T_station['소재지(위치)'][i] = None"
   ]
  },
  {
   "cell_type": "code",
   "execution_count": null,
   "id": "cdbe6c0f",
   "metadata": {},
   "outputs": [],
   "source": [
    "T_station"
   ]
  },
  {
   "cell_type": "code",
   "execution_count": null,
   "id": "228efba1",
   "metadata": {},
   "outputs": [],
   "source": [
    "msno.matrix(T_station)"
   ]
  },
  {
   "cell_type": "code",
   "execution_count": null,
   "id": "52a5c8cd",
   "metadata": {},
   "outputs": [],
   "source": [
    "T_station[T_station['소재지']]"
   ]
  },
  {
   "cell_type": "code",
   "execution_count": 75,
   "id": "d3dd6860",
   "metadata": {},
   "outputs": [
    {
     "name": "stdout",
     "output_type": "stream",
     "text": [
      "ls: .csv: No such file or directory\r\n",
      "./data/:\r\n",
      "total 2121968\r\n",
      "drwxr-xr-x  16 riversong  staff        512  4 15 20:37 \u001b[34m.\u001b[m\u001b[m\r\n",
      "drwxr-xr-x  17 riversong  staff        544  4 15 21:34 \u001b[34m..\u001b[m\u001b[m\r\n",
      "-rw-r--r--@  1 riversong  staff       6148  4 13 20:57 .DS_Store\r\n",
      "-rw-r--r--@  1 riversong  staff     206960  4 15 20:37 location_2021.01.csv\r\n",
      "-rw-r--r--   1 riversong  staff   16910214  4 13 20:57 sb1907.csv\r\n",
      "-rw-r--r--   1 riversong  staff   16836863  4 13 20:57 sb1908.csv\r\n",
      "-rw-r--r--   1 riversong  staff    9918328  4 13 20:56 sb2007.csv\r\n",
      "-rw-r--r--   1 riversong  staff    6669254  4 13 20:56 sb2008.csv\r\n",
      "-rw-r--r--@  1 riversong  staff  108814596  4 13 18:26 seoul_bike_201907_1.csv\r\n",
      "-rw-r--r--@  1 riversong  staff  109739697  4 13 18:27 seoul_bike_201907_2.csv\r\n",
      "-rw-r--r--@  1 riversong  staff   66250835  4 13 18:27 seoul_bike_201907_3.csv\r\n",
      "-rw-r--r--@  1 riversong  staff  108864113  4 13 20:25 seoul_bike_201908_1.csv\r\n",
      "-rw-r--r--@  1 riversong  staff  109803842  4 13 20:25 seoul_bike_201908_2.csv\r\n",
      "-rw-r--r--@  1 riversong  staff   58885153  4 13 20:25 seoul_bike_201908_3.csv\r\n",
      "-rw-r--r--@  1 riversong  staff  304813348  4 13 18:27 seoul_bike_2020.07_08.csv\r\n",
      "-rw-r--r--@  1 riversong  staff  109645940  4 15 20:32 seoul_bike_2021.01.csv\r\n"
     ]
    }
   ],
   "source": [
    "!ls -al ./data/ .csv"
   ]
  },
  {
   "cell_type": "code",
   "execution_count": 76,
   "id": "e2dc2d02",
   "metadata": {},
   "outputs": [],
   "source": [
    "sb2078 = pd.read_csv('./data/seoul_bike_2020.07_08.csv',encoding='cp949')"
   ]
  },
  {
   "cell_type": "code",
   "execution_count": 92,
   "id": "2a6c42f9",
   "metadata": {},
   "outputs": [
    {
     "data": {
      "text/plain": [
       "[<matplotlib.lines.Line2D at 0x7fa5eb350c90>]"
      ]
     },
     "execution_count": 92,
     "metadata": {},
     "output_type": "execute_result"
    },
    {
     "data": {
      "image/png": "[encoded data removed]",
      "text/plain": [
       "<Figure size 1440x720 with 1 Axes>"
      ]
     },
     "metadata": {
      "needs_background": "light"
     },
     "output_type": "display_data"
    }
   ],
   "source": [
    "gu_filtering(sb2078,station)"
   ]
  },
  {
   "cell_type": "code",
   "execution_count": null,
   "id": "484a867e",
   "metadata": {},
   "outputs": [],
   "source": []
  },
  {
   "cell_type": "code",
   "execution_count": null,
   "id": "629da8a6",
   "metadata": {},
   "outputs": [],
   "source": []
  }
 ],
 "metadata": {
  "kernelspec": {
   "display_name": "Python 3",
   "language": "python",
   "name": "python3"
  },
  "language_info": {
   "codemirror_mode": {
    "name": "ipython",
    "version": 3
   },
   "file_extension": ".py",
   "mimetype": "text/x-python",
   "name": "python",
   "nbconvert_exporter": "python",
   "pygments_lexer": "ipython3",
   "version": "3.7.10"
  }
 },
 "nbformat": 4,
 "nbformat_minor": 5
}
